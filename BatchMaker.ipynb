{
 "cells": [
  {
   "cell_type": "code",
   "execution_count": 3,
   "id": "073531fc",
   "metadata": {},
   "outputs": [],
   "source": [
    " chunk_size = 20  # lines\n",
    "\n",
    "def write_chunk(part, lines):\n",
    "    with open('pivot_batches-tig20/pivot_part_'+ str(part) +'.csv', 'w') as f_out:\n",
    "        f_out.write(header)\n",
    "        f_out.writelines(lines)\n",
    "\n",
    "with open('pivotdata - Copy.csv', 'r') as f:\n",
    "    count = 0\n",
    "    header = f.readline()\n",
    "    lines = []\n",
    "    for line in f:\n",
    "        count += 1\n",
    "        lines.append(line)\n",
    "        if count % chunk_size == 0:\n",
    "            write_chunk(count // chunk_size, lines)\n",
    "            lines = []\n",
    "    # write remainder\n",
    "    if len(lines) > 0:\n",
    "        write_chunk((count // chunk_size) + 1, lines)\n"
   ]
  },
  {
   "cell_type": "code",
   "execution_count": null,
   "id": "2c8d53d8",
   "metadata": {},
   "outputs": [],
   "source": []
  }
 ],
 "metadata": {
  "kernelspec": {
   "display_name": "Python 3 (ipykernel)",
   "language": "python",
   "name": "python3"
  },
  "language_info": {
   "codemirror_mode": {
    "name": "ipython",
    "version": 3
   },
   "file_extension": ".py",
   "mimetype": "text/x-python",
   "name": "python",
   "nbconvert_exporter": "python",
   "pygments_lexer": "ipython3",
   "version": "3.11.5"
  }
 },
 "nbformat": 4,
 "nbformat_minor": 5
}
