{
 "cells": [
  {
   "cell_type": "code",
   "execution_count": 78,
   "id": "a6e195bb",
   "metadata": {},
   "outputs": [],
   "source": [
    "#IMPORTS HERE\n",
    "import csv\n",
    "import pandas as pd\n",
    "import os\n",
    "\n",
    "import numpy as np"
   ]
  },
  {
   "cell_type": "code",
   "execution_count": null,
   "id": "4b190c39",
   "metadata": {},
   "outputs": [],
   "source": [
    "active_file = \"\"\n"
   ]
  },
  {
   "cell_type": "code",
   "execution_count": 97,
   "id": "ecc8bd3f",
   "metadata": {
    "scrolled": true
   },
   "outputs": [
    {
     "name": "stdout",
     "output_type": "stream",
     "text": [
      "print success\n",
      "One batch done\n",
      "print success\n",
      "One batch done\n",
      "print success\n",
      "One batch done\n",
      "print success\n",
      "One batch done\n",
      "print success\n",
      "One batch done\n",
      "print success\n",
      "One batch done\n",
      "print success\n",
      "One batch done\n",
      "print success\n",
      "One batch done\n",
      "print success\n",
      "One batch done\n",
      "print success\n",
      "One batch done\n",
      "print success\n",
      "One batch done\n",
      "print success\n",
      "One batch done\n",
      "print success\n",
      "One batch done\n",
      "print success\n",
      "One batch done\n",
      "print success\n",
      "One batch done\n",
      "print success\n",
      "One batch done\n",
      "print success\n",
      "One batch done\n",
      "print success\n",
      "One batch done\n",
      "print success\n",
      "One batch done\n"
     ]
    }
   ],
   "source": [
    "##VERSION 22222222222222222222222222222222222222222222222222\n",
    "directory = os.path.join(\"C:\\\\Users\\\\ICTS-Nigel\\\\Test2\\\\\",\"pivot_batches-tig20\")\n",
    "directory_comparators = os.path.join(\"C:\\\\Users\\\\ICTS-Nigel\\\\Test2\\\\\",\"csvfiles\")\n",
    "for root,dirs,files in os.walk(directory):\n",
    "    for file in files:\n",
    "        if file.endswith(\".csv\"):\n",
    "            pivot_data = []\n",
    "        \n",
    "            with open(\"pivot_batches-tig20/\"+file, \"r\") as f:\n",
    "                for line in f:\n",
    "                    pivot_data.append(line.split(\",\"))\n",
    "            \n",
    "            for root,dirs,files2 in os.walk(directory_comparators):\n",
    "                for file2 in files2:\n",
    "                    rows = []\n",
    "                    active_file = \"\"\n",
    "                    if file2.endswith(\".csv\"):\n",
    "                        active_file = file2\n",
    "                        \n",
    "                        with open(\"csvfiles\\\\\"+ file2, \"r\") as f:\n",
    "                            for rw in f:\n",
    "                                rows.append(rw.split(\",\"))\n",
    "                        \n",
    "                        count = 0\n",
    "                        for pd in pivot_data:\n",
    "                            for row in rows:\n",
    "                                hit = duplicateCheckerV2(pd, row)\n",
    "                                if(hit): \n",
    "                                    pivot_data[count].append(\",Hit\")\n",
    "                                    pivot_data[count].append(\",From:\" + str(active_file))\n",
    "                            count += 1\n",
    "            printOutput(file, pivot_data)\n",
    "            print(\"One batch done\")\n",
    "            \n",
    "###VERSION 2222222222222222222222222222"
   ]
  },
  {
   "cell_type": "code",
   "execution_count": 95,
   "id": "40784397",
   "metadata": {},
   "outputs": [],
   "source": [
    "def duplicateCheckerV2(pivotD, rowD):\n",
    "    arr = np.array(pivotD)\n",
    " \n",
    "    arr1 = np.array(rowD)\n",
    "\n",
    "    # Using == operator and all() method\n",
    "    result =  np.array_equal(arr, arr1)\n",
    "    return result"
   ]
  },
  {
   "cell_type": "code",
   "execution_count": null,
   "id": "73adb66c",
   "metadata": {},
   "outputs": [],
   "source": [
    "\n",
    "directory = os.path.join(\"C:\\\\Users\\\\ICTS-Nigel\\\\Test2\\\\\",\"pivot_batches-tig20\")\n",
    "directory_comparators = os.path.join(\"C:\\\\Users\\\\ICTS-Nigel\\\\Test2\\\\\",\"csvfiles\")\n",
    "for root,dirs,files in os.walk(directory):\n",
    "    for file in files:\n",
    "        if file.endswith(\".csv\"):\n",
    "            pivot_data = []\n",
    "        \n",
    "            with open(\"pivot_batches-tig20/\"+file, \"r\") as f:\n",
    "                for line in f:\n",
    "                    pivot_data.append(line.split(\",\"))\n",
    "            \n",
    "            for root,dirs,files2 in os.walk(directory_comparators):\n",
    "                for file2 in files2:\n",
    "                    rows = []\n",
    "                    active_file = \"\"\n",
    "                    if file2.endswith(\".csv\"):\n",
    "                        active_file = file2\n",
    "                        \n",
    "                        with open(\"csvfiles\\\\\"+ file2, \"r\") as f:\n",
    "                            for rw in f:\n",
    "                                rows.append(rw.split(\",\"))\n",
    "                        \n",
    "                        count = 0\n",
    "                        for pd in pivot_data:\n",
    "                            for row in rows:\n",
    "                                hits = hasDuplicate2(pd, row, active_file)\n",
    "                                \n",
    "                                if(hits > 5):\n",
    "                                    pivot_data[count].append(\",hits: \" + str(hits))\n",
    "                                    pivot_data[count].append(\",From: \" + str(active_file))\n",
    "                            count += 1\n",
    "            printOutput(file, pivot_data)\n",
    "            print(\"One batch done\")"
   ]
  },
  {
   "cell_type": "code",
   "execution_count": 90,
   "id": "0c8feb27",
   "metadata": {},
   "outputs": [],
   "source": [
    "def printOutput(fname, data):\n",
    "    with open('Outputs2\\\\'+fname, 'w', encoding='UTF8', newline='') as f:\n",
    "        writer = csv.writer(f)\n",
    "        for line in data:\n",
    "            try:\n",
    "                writer.writerow(line)\n",
    "            except:\n",
    "                print(\"An exception occurred\")\n",
    "        \n",
    "        #\n",
    "    # write multiple rows\n",
    "    #writer.writerows(pivot_rows)\n",
    "    print(\"print success\")"
   ]
  },
  {
   "cell_type": "code",
   "execution_count": 55,
   "id": "e2fc8ad4",
   "metadata": {},
   "outputs": [],
   "source": [
    "def hasDuplicate2(data, rows, active_file):\n",
    "    hits = 0\n",
    "    datahits = []\n",
    "    for r in rows:\n",
    "        temphit = 0\n",
    "        \n",
    "        for d in data:\n",
    "            if(r.count(d)):\n",
    "                temphit+= 1\n",
    "                if(d not in datahits):\n",
    "                    datahits.append(d)\n",
    "        if(hits < temphit):\n",
    "            hits = temphit\n",
    "    \n",
    "    return hits"
   ]
  },
  {
   "cell_type": "code",
   "execution_count": null,
   "id": "5379bef9",
   "metadata": {},
   "outputs": [],
   "source": []
  },
  {
   "cell_type": "code",
   "execution_count": null,
   "id": "bde9b352",
   "metadata": {},
   "outputs": [],
   "source": []
  },
  {
   "cell_type": "code",
   "execution_count": null,
   "id": "f37bc395",
   "metadata": {},
   "outputs": [],
   "source": []
  },
  {
   "cell_type": "code",
   "execution_count": null,
   "id": "3f477cbd",
   "metadata": {},
   "outputs": [],
   "source": []
  },
  {
   "cell_type": "code",
   "execution_count": null,
   "id": "4ec7fe74",
   "metadata": {},
   "outputs": [],
   "source": []
  },
  {
   "cell_type": "code",
   "execution_count": null,
   "id": "11d52521",
   "metadata": {},
   "outputs": [],
   "source": []
  }
 ],
 "metadata": {
  "kernelspec": {
   "display_name": "Python 3 (ipykernel)",
   "language": "python",
   "name": "python3"
  },
  "language_info": {
   "codemirror_mode": {
    "name": "ipython",
    "version": 3
   },
   "file_extension": ".py",
   "mimetype": "text/x-python",
   "name": "python",
   "nbconvert_exporter": "python",
   "pygments_lexer": "ipython3",
   "version": "3.11.5"
  }
 },
 "nbformat": 4,
 "nbformat_minor": 5
}
